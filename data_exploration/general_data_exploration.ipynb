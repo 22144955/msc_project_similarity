{
 "cells": [
  {
   "cell_type": "code",
   "execution_count": 93,
   "id": "7b47f8e7-9716-4544-950a-c7fd429e2842",
   "metadata": {},
   "outputs": [],
   "source": [
    "import pandas as pd\n",
    "import matplotlib.pyplot as plt\n",
    "import numpy as np\n",
    "import seaborn as sns\n",
    "import pyarrow"
   ]
  },
  {
   "cell_type": "markdown",
   "id": "21224ef6-b09d-479e-86de-2c8de8fa9c5f",
   "metadata": {},
   "source": [
    "# Load the Data"
   ]
  },
  {
   "cell_type": "code",
   "execution_count": 94,
   "id": "06a7a106-7010-4f75-a0cc-6262042b3e46",
   "metadata": {},
   "outputs": [],
   "source": [
    "#load the data\n",
    "\n",
    "#load the users along with their interests\n",
    "user_interest = pd.read_feather(\"data/user_interest\")\n",
    "\n",
    "#load the interests along with the word embeddings\n",
    "interests_alone = pd.read_feather(\"data/interest_mapping\")\n",
    "\n",
    "#load the interests with occurance count and embeddings\n",
    "interest_count = pd.read_feather(\"data/user_interest_embedding\")\n",
    "\n",
    "#load the user level data\n",
    "user_df = pd.read_feather(\"data/user_df\")"
   ]
  },
  {
   "cell_type": "markdown",
   "id": "6a18d776-a7a9-46b3-8ef9-0f91a9b99168",
   "metadata": {},
   "source": [
    "# Data Exploration"
   ]
  },
  {
   "cell_type": "markdown",
   "id": "85363e9b-f5d4-48c7-9af0-f83ddbc0ab39",
   "metadata": {},
   "source": [
    "## Frequency Distribution"
   ]
  },
  {
   "cell_type": "code",
   "execution_count": 54,
   "id": "7e5a9b9d-1e8c-4d9b-8f97-9bd59dd7ba26",
   "metadata": {},
   "outputs": [
    {
     "data": {
      "text/plain": [
       "Text(0.5, 1.0, 'Ranking vs. Occurrence Percentage')"
      ]
     },
     "execution_count": 54,
     "metadata": {},
     "output_type": "execute_result"
    },
    {
     "data": {
      "image/png": "[encoded data removed]",
      "text/plain": [
       "<Figure size 720x432 with 1 Axes>"
      ]
     },
     "metadata": {
      "needs_background": "light"
     },
     "output_type": "display_data"
    }
   ],
   "source": [
    "plt.figure(figsize=(10, 6))\n",
    "plt.plot(interest_count['RANKING'], interest_count['OCCURANCE_PERCENTAGE'])\n",
    "plt.xlabel('Interest frequency ranking', fontsize=10)\n",
    "plt.ylabel('Interest percentage of occurance', fontsize=10)\n",
    "plt.title('Ranking vs. Occurrence Percentage')"
   ]
  },
  {
   "cell_type": "markdown",
   "id": "8e4889b7-9d79-4c25-afb8-64a6eeff23a6",
   "metadata": {},
   "source": [
    "## Top Interests"
   ]
  },
  {
   "cell_type": "markdown",
   "id": "37a53fc2-ad60-458a-abfd-0572def66d16",
   "metadata": {},
   "source": [
    "Top 10 Interests Overall"
   ]
  },
  {
   "cell_type": "code",
   "execution_count": 55,
   "id": "e853c2e7-5818-4376-9c44-9ee95c25d6ac",
   "metadata": {},
   "outputs": [
    {
     "data": {
      "text/html": [
       "<div>\n",
       "<style scoped>\n",
       "    .dataframe tbody tr th:only-of-type {\n",
       "        vertical-align: middle;\n",
       "    }\n",
       "\n",
       "    .dataframe tbody tr th {\n",
       "        vertical-align: top;\n",
       "    }\n",
       "\n",
       "    .dataframe thead th {\n",
       "        text-align: right;\n",
       "    }\n",
       "</style>\n",
       "<table border=\"1\" class=\"dataframe\">\n",
       "  <thead>\n",
       "    <tr style=\"text-align: right;\">\n",
       "      <th></th>\n",
       "      <th>INTEREST_ID</th>\n",
       "      <th>INTEREST_NAME_x</th>\n",
       "      <th>OCCURENCE_FREQUENCY</th>\n",
       "      <th>OCCURANCE_PERCENTAGE</th>\n",
       "      <th>RANKING</th>\n",
       "      <th>tokenized_interest</th>\n",
       "      <th>avg_embedding</th>\n",
       "      <th>check_embd</th>\n",
       "    </tr>\n",
       "  </thead>\n",
       "  <tbody>\n",
       "    <tr>\n",
       "      <th>0</th>\n",
       "      <td>504</td>\n",
       "      <td>Museums &amp; galleries</td>\n",
       "      <td>2958</td>\n",
       "      <td>3.006067</td>\n",
       "      <td>1</td>\n",
       "      <td>[museums, galleries]</td>\n",
       "      <td>[0.16845703125, 0.12109375, -0.0048828125, 0.3...</td>\n",
       "      <td>False</td>\n",
       "    </tr>\n",
       "    <tr>\n",
       "      <th>1</th>\n",
       "      <td>301</td>\n",
       "      <td>Art</td>\n",
       "      <td>2835</td>\n",
       "      <td>2.881068</td>\n",
       "      <td>2</td>\n",
       "      <td>[art]</td>\n",
       "      <td>[0.0233154296875, -0.06396484375, 0.0055236816...</td>\n",
       "      <td>False</td>\n",
       "    </tr>\n",
       "    <tr>\n",
       "      <th>2</th>\n",
       "      <td>508</td>\n",
       "      <td>Pubs</td>\n",
       "      <td>2684</td>\n",
       "      <td>2.727615</td>\n",
       "      <td>3</td>\n",
       "      <td>[pubs]</td>\n",
       "      <td>[0.140625, -0.03857421875, 0.1328125, 0.503906...</td>\n",
       "      <td>False</td>\n",
       "    </tr>\n",
       "    <tr>\n",
       "      <th>3</th>\n",
       "      <td>501</td>\n",
       "      <td>Gigs</td>\n",
       "      <td>2437</td>\n",
       "      <td>2.476601</td>\n",
       "      <td>4</td>\n",
       "      <td>[gigs]</td>\n",
       "      <td>[0.29296875, 0.053466796875, -0.314453125, 0.2...</td>\n",
       "      <td>False</td>\n",
       "    </tr>\n",
       "    <tr>\n",
       "      <th>4</th>\n",
       "      <td>304</td>\n",
       "      <td>Photography</td>\n",
       "      <td>2325</td>\n",
       "      <td>2.362781</td>\n",
       "      <td>5</td>\n",
       "      <td>[photography]</td>\n",
       "      <td>[0.00180816650390625, 0.056396484375, -0.08300...</td>\n",
       "      <td>False</td>\n",
       "    </tr>\n",
       "    <tr>\n",
       "      <th>5</th>\n",
       "      <td>604</td>\n",
       "      <td>Cooking</td>\n",
       "      <td>2324</td>\n",
       "      <td>2.361765</td>\n",
       "      <td>6</td>\n",
       "      <td>[cooking]</td>\n",
       "      <td>[-0.1416015625, 0.25390625, 0.05224609375, 0.1...</td>\n",
       "      <td>False</td>\n",
       "    </tr>\n",
       "    <tr>\n",
       "      <th>6</th>\n",
       "      <td>307</td>\n",
       "      <td>Dancing</td>\n",
       "      <td>1944</td>\n",
       "      <td>1.975590</td>\n",
       "      <td>7</td>\n",
       "      <td>[dancing]</td>\n",
       "      <td>[0.171875, -0.2255859375, 0.2177734375, 0.2138...</td>\n",
       "      <td>False</td>\n",
       "    </tr>\n",
       "    <tr>\n",
       "      <th>7</th>\n",
       "      <td>404</td>\n",
       "      <td>Gym</td>\n",
       "      <td>1812</td>\n",
       "      <td>1.841445</td>\n",
       "      <td>8</td>\n",
       "      <td>[gym]</td>\n",
       "      <td>[-0.031494140625, 0.13671875, 0.049072265625, ...</td>\n",
       "      <td>False</td>\n",
       "    </tr>\n",
       "    <tr>\n",
       "      <th>8</th>\n",
       "      <td>1117</td>\n",
       "      <td>Foodie</td>\n",
       "      <td>1714</td>\n",
       "      <td>1.741852</td>\n",
       "      <td>9</td>\n",
       "      <td>[foodie]</td>\n",
       "      <td>[-0.2236328125, -0.255859375, 0.080078125, 0.3...</td>\n",
       "      <td>False</td>\n",
       "    </tr>\n",
       "    <tr>\n",
       "      <th>9</th>\n",
       "      <td>1201</td>\n",
       "      <td>Beaches</td>\n",
       "      <td>1700</td>\n",
       "      <td>1.727625</td>\n",
       "      <td>10</td>\n",
       "      <td>[beaches]</td>\n",
       "      <td>[0.26171875, 0.1201171875, 0.0830078125, -0.01...</td>\n",
       "      <td>False</td>\n",
       "    </tr>\n",
       "  </tbody>\n",
       "</table>\n",
       "</div>"
      ],
      "text/plain": [
       "   INTEREST_ID      INTEREST_NAME_x  OCCURENCE_FREQUENCY   \n",
       "0          504  Museums & galleries                 2958  \\\n",
       "1          301                  Art                 2835   \n",
       "2          508                 Pubs                 2684   \n",
       "3          501                 Gigs                 2437   \n",
       "4          304          Photography                 2325   \n",
       "5          604              Cooking                 2324   \n",
       "6          307              Dancing                 1944   \n",
       "7          404                  Gym                 1812   \n",
       "8         1117               Foodie                 1714   \n",
       "9         1201              Beaches                 1700   \n",
       "\n",
       "   OCCURANCE_PERCENTAGE  RANKING    tokenized_interest   \n",
       "0              3.006067        1  [museums, galleries]  \\\n",
       "1              2.881068        2                 [art]   \n",
       "2              2.727615        3                [pubs]   \n",
       "3              2.476601        4                [gigs]   \n",
       "4              2.362781        5         [photography]   \n",
       "5              2.361765        6             [cooking]   \n",
       "6              1.975590        7             [dancing]   \n",
       "7              1.841445        8                 [gym]   \n",
       "8              1.741852        9              [foodie]   \n",
       "9              1.727625       10             [beaches]   \n",
       "\n",
       "                                       avg_embedding  check_embd  \n",
       "0  [0.16845703125, 0.12109375, -0.0048828125, 0.3...       False  \n",
       "1  [0.0233154296875, -0.06396484375, 0.0055236816...       False  \n",
       "2  [0.140625, -0.03857421875, 0.1328125, 0.503906...       False  \n",
       "3  [0.29296875, 0.053466796875, -0.314453125, 0.2...       False  \n",
       "4  [0.00180816650390625, 0.056396484375, -0.08300...       False  \n",
       "5  [-0.1416015625, 0.25390625, 0.05224609375, 0.1...       False  \n",
       "6  [0.171875, -0.2255859375, 0.2177734375, 0.2138...       False  \n",
       "7  [-0.031494140625, 0.13671875, 0.049072265625, ...       False  \n",
       "8  [-0.2236328125, -0.255859375, 0.080078125, 0.3...       False  \n",
       "9  [0.26171875, 0.1201171875, 0.0830078125, -0.01...       False  "
      ]
     },
     "execution_count": 55,
     "metadata": {},
     "output_type": "execute_result"
    }
   ],
   "source": [
    "interest_count.head(10)"
   ]
  },
  {
   "cell_type": "code",
   "execution_count": 56,
   "id": "7c4922d7-c9ad-428f-a348-a36d299eb146",
   "metadata": {},
   "outputs": [
    {
     "data": {
      "image/png": "[encoded data removed]",
      "text/plain": [
       "<Figure size 720x720 with 1 Axes>"
      ]
     },
     "metadata": {
      "needs_background": "light"
     },
     "output_type": "display_data"
    }
   ],
   "source": [
    "# Sort the DataFrame by 'Occurance_Percentage' in descending order\n",
    "sorted_interests = interest_count.head(20).sort_values('OCCURANCE_PERCENTAGE', ascending=True)\n",
    "\n",
    "# Set the figure size to accommodate all the interests\n",
    "plt.figure(figsize=(10, len(sorted_interests) * 0.5))\n",
    "\n",
    "# Plot the horizontal bar chart\n",
    "plt.barh(sorted_interests['INTEREST_NAME_x'], sorted_interests['OCCURANCE_PERCENTAGE'])\n",
    "\n",
    "# Set labels and title\n",
    "plt.xlabel('Occurrence Percentage')\n",
    "plt.ylabel('Interest')\n",
    "plt.title('Occurrence Percentage of Interests')\n",
    "\n",
    "# Adjust the spacing between the bars\n",
    "plt.tight_layout()\n",
    "\n",
    "# Display the plot\n",
    "plt.show()"
   ]
  },
  {
   "cell_type": "markdown",
   "id": "b7d3c57b-e942-47ed-a101-c22ebc0194bd",
   "metadata": {},
   "source": [
    "User Interest by Gender"
   ]
  },
  {
   "cell_type": "code",
   "execution_count": 57,
   "id": "97557582-08dc-4cd0-bd7d-59ebb1083821",
   "metadata": {},
   "outputs": [
    {
     "data": {
      "text/html": [
       "<div>\n",
       "<style scoped>\n",
       "    .dataframe tbody tr th:only-of-type {\n",
       "        vertical-align: middle;\n",
       "    }\n",
       "\n",
       "    .dataframe tbody tr th {\n",
       "        vertical-align: top;\n",
       "    }\n",
       "\n",
       "    .dataframe thead th {\n",
       "        text-align: right;\n",
       "    }\n",
       "</style>\n",
       "<table border=\"1\" class=\"dataframe\">\n",
       "  <thead>\n",
       "    <tr style=\"text-align: right;\">\n",
       "      <th></th>\n",
       "      <th>level_0</th>\n",
       "      <th>INTEREST_ID</th>\n",
       "      <th>INTEREST_NAME</th>\n",
       "      <th>PROFILE_GENDER</th>\n",
       "      <th>OCCURENCE_FREQUENCY</th>\n",
       "    </tr>\n",
       "  </thead>\n",
       "  <tbody>\n",
       "    <tr>\n",
       "      <th>0</th>\n",
       "      <td>0</td>\n",
       "      <td>504</td>\n",
       "      <td>Museums &amp; galleries</td>\n",
       "      <td>F</td>\n",
       "      <td>1876</td>\n",
       "    </tr>\n",
       "    <tr>\n",
       "      <th>1</th>\n",
       "      <td>1</td>\n",
       "      <td>301</td>\n",
       "      <td>Art</td>\n",
       "      <td>F</td>\n",
       "      <td>1817</td>\n",
       "    </tr>\n",
       "    <tr>\n",
       "      <th>2</th>\n",
       "      <td>2</td>\n",
       "      <td>501</td>\n",
       "      <td>Gigs</td>\n",
       "      <td>F</td>\n",
       "      <td>1481</td>\n",
       "    </tr>\n",
       "    <tr>\n",
       "      <th>3</th>\n",
       "      <td>3</td>\n",
       "      <td>307</td>\n",
       "      <td>Dancing</td>\n",
       "      <td>F</td>\n",
       "      <td>1380</td>\n",
       "    </tr>\n",
       "    <tr>\n",
       "      <th>4</th>\n",
       "      <td>4</td>\n",
       "      <td>508</td>\n",
       "      <td>Pubs</td>\n",
       "      <td>F</td>\n",
       "      <td>1221</td>\n",
       "    </tr>\n",
       "    <tr>\n",
       "      <th>5</th>\n",
       "      <td>5</td>\n",
       "      <td>304</td>\n",
       "      <td>Photography</td>\n",
       "      <td>F</td>\n",
       "      <td>1166</td>\n",
       "    </tr>\n",
       "    <tr>\n",
       "      <th>6</th>\n",
       "      <td>6</td>\n",
       "      <td>1117</td>\n",
       "      <td>Foodie</td>\n",
       "      <td>F</td>\n",
       "      <td>1131</td>\n",
       "    </tr>\n",
       "    <tr>\n",
       "      <th>7</th>\n",
       "      <td>7</td>\n",
       "      <td>604</td>\n",
       "      <td>Cooking</td>\n",
       "      <td>F</td>\n",
       "      <td>1112</td>\n",
       "    </tr>\n",
       "    <tr>\n",
       "      <th>8</th>\n",
       "      <td>8</td>\n",
       "      <td>1201</td>\n",
       "      <td>Beaches</td>\n",
       "      <td>F</td>\n",
       "      <td>1060</td>\n",
       "    </tr>\n",
       "    <tr>\n",
       "      <th>9</th>\n",
       "      <td>9</td>\n",
       "      <td>2504</td>\n",
       "      <td>Going out for drinks</td>\n",
       "      <td>F</td>\n",
       "      <td>1031</td>\n",
       "    </tr>\n",
       "  </tbody>\n",
       "</table>\n",
       "</div>"
      ],
      "text/plain": [
       "   level_0  INTEREST_ID         INTEREST_NAME PROFILE_GENDER   \n",
       "0        0          504   Museums & galleries              F  \\\n",
       "1        1          301                   Art              F   \n",
       "2        2          501                  Gigs              F   \n",
       "3        3          307               Dancing              F   \n",
       "4        4          508                  Pubs              F   \n",
       "5        5          304           Photography              F   \n",
       "6        6         1117                Foodie              F   \n",
       "7        7          604               Cooking              F   \n",
       "8        8         1201               Beaches              F   \n",
       "9        9         2504  Going out for drinks              F   \n",
       "\n",
       "   OCCURENCE_FREQUENCY  \n",
       "0                 1876  \n",
       "1                 1817  \n",
       "2                 1481  \n",
       "3                 1380  \n",
       "4                 1221  \n",
       "5                 1166  \n",
       "6                 1131  \n",
       "7                 1112  \n",
       "8                 1060  \n",
       "9                 1031  "
      ]
     },
     "execution_count": 57,
     "metadata": {},
     "output_type": "execute_result"
    }
   ],
   "source": [
    "#user interests by gender\n",
    "#count the occurance of each interest\n",
    "interest_count_f = user_interest.groupby(['INTEREST_ID', 'INTEREST_NAME', 'PROFILE_GENDER']).size().reset_index(name='OCCURENCE_FREQUENCY')\n",
    "\n",
    "#female interests\n",
    "f_interests = interest_count_f[interest_count_f['PROFILE_GENDER'] == 'F']\n",
    "f_interests = f_interests.sort_values(by='OCCURENCE_FREQUENCY', ascending=False).reset_index().reset_index()\n",
    "f_interests = f_interests.drop('index', axis=1)\n",
    "f_interests.head(10)"
   ]
  },
  {
   "cell_type": "code",
   "execution_count": 58,
   "id": "818b266f-190d-4820-8d94-b0e6dc55e5ae",
   "metadata": {},
   "outputs": [
    {
     "data": {
      "text/html": [
       "<div>\n",
       "<style scoped>\n",
       "    .dataframe tbody tr th:only-of-type {\n",
       "        vertical-align: middle;\n",
       "    }\n",
       "\n",
       "    .dataframe tbody tr th {\n",
       "        vertical-align: top;\n",
       "    }\n",
       "\n",
       "    .dataframe thead th {\n",
       "        text-align: right;\n",
       "    }\n",
       "</style>\n",
       "<table border=\"1\" class=\"dataframe\">\n",
       "  <thead>\n",
       "    <tr style=\"text-align: right;\">\n",
       "      <th></th>\n",
       "      <th>level_0</th>\n",
       "      <th>INTEREST_ID</th>\n",
       "      <th>INTEREST_NAME</th>\n",
       "      <th>PROFILE_GENDER</th>\n",
       "      <th>OCCURENCE_FREQUENCY</th>\n",
       "    </tr>\n",
       "  </thead>\n",
       "  <tbody>\n",
       "    <tr>\n",
       "      <th>0</th>\n",
       "      <td>0</td>\n",
       "      <td>508</td>\n",
       "      <td>Pubs</td>\n",
       "      <td>M</td>\n",
       "      <td>1463</td>\n",
       "    </tr>\n",
       "    <tr>\n",
       "      <th>1</th>\n",
       "      <td>1</td>\n",
       "      <td>604</td>\n",
       "      <td>Cooking</td>\n",
       "      <td>M</td>\n",
       "      <td>1212</td>\n",
       "    </tr>\n",
       "    <tr>\n",
       "      <th>2</th>\n",
       "      <td>2</td>\n",
       "      <td>304</td>\n",
       "      <td>Photography</td>\n",
       "      <td>M</td>\n",
       "      <td>1159</td>\n",
       "    </tr>\n",
       "    <tr>\n",
       "      <th>3</th>\n",
       "      <td>3</td>\n",
       "      <td>405</td>\n",
       "      <td>Football</td>\n",
       "      <td>M</td>\n",
       "      <td>1135</td>\n",
       "    </tr>\n",
       "    <tr>\n",
       "      <th>4</th>\n",
       "      <td>4</td>\n",
       "      <td>404</td>\n",
       "      <td>Gym</td>\n",
       "      <td>M</td>\n",
       "      <td>1088</td>\n",
       "    </tr>\n",
       "    <tr>\n",
       "      <th>5</th>\n",
       "      <td>5</td>\n",
       "      <td>504</td>\n",
       "      <td>Museums &amp; galleries</td>\n",
       "      <td>M</td>\n",
       "      <td>1082</td>\n",
       "    </tr>\n",
       "    <tr>\n",
       "      <th>6</th>\n",
       "      <td>6</td>\n",
       "      <td>301</td>\n",
       "      <td>Art</td>\n",
       "      <td>M</td>\n",
       "      <td>1018</td>\n",
       "    </tr>\n",
       "    <tr>\n",
       "      <th>7</th>\n",
       "      <td>7</td>\n",
       "      <td>501</td>\n",
       "      <td>Gigs</td>\n",
       "      <td>M</td>\n",
       "      <td>956</td>\n",
       "    </tr>\n",
       "    <tr>\n",
       "      <th>8</th>\n",
       "      <td>8</td>\n",
       "      <td>601</td>\n",
       "      <td>Video games</td>\n",
       "      <td>M</td>\n",
       "      <td>846</td>\n",
       "    </tr>\n",
       "    <tr>\n",
       "      <th>9</th>\n",
       "      <td>9</td>\n",
       "      <td>503</td>\n",
       "      <td>Festivals</td>\n",
       "      <td>M</td>\n",
       "      <td>673</td>\n",
       "    </tr>\n",
       "  </tbody>\n",
       "</table>\n",
       "</div>"
      ],
      "text/plain": [
       "   level_0  INTEREST_ID        INTEREST_NAME PROFILE_GENDER   \n",
       "0        0          508                 Pubs              M  \\\n",
       "1        1          604              Cooking              M   \n",
       "2        2          304          Photography              M   \n",
       "3        3          405             Football              M   \n",
       "4        4          404                  Gym              M   \n",
       "5        5          504  Museums & galleries              M   \n",
       "6        6          301                  Art              M   \n",
       "7        7          501                 Gigs              M   \n",
       "8        8          601          Video games              M   \n",
       "9        9          503            Festivals              M   \n",
       "\n",
       "   OCCURENCE_FREQUENCY  \n",
       "0                 1463  \n",
       "1                 1212  \n",
       "2                 1159  \n",
       "3                 1135  \n",
       "4                 1088  \n",
       "5                 1082  \n",
       "6                 1018  \n",
       "7                  956  \n",
       "8                  846  \n",
       "9                  673  "
      ]
     },
     "execution_count": 58,
     "metadata": {},
     "output_type": "execute_result"
    }
   ],
   "source": [
    "#male interests\n",
    "\n",
    "#count the occurance of each interest\n",
    "interest_count_m = user_interest.groupby(['INTEREST_ID', 'INTEREST_NAME', 'PROFILE_GENDER']).size().reset_index(name='OCCURENCE_FREQUENCY')\n",
    "\n",
    "m_interests = interest_count_m[interest_count_m['PROFILE_GENDER'] == 'M']\n",
    "m_interests = m_interests.sort_values(by='OCCURENCE_FREQUENCY', ascending=False).reset_index().reset_index()\n",
    "m_interests = m_interests.drop('index', axis=1)\n",
    "m_interests.head(10)"
   ]
  },
  {
   "cell_type": "markdown",
   "id": "63fcc1be-6019-45ee-904a-56be457aa65a",
   "metadata": {},
   "source": [
    "Top Interest by age"
   ]
  },
  {
   "cell_type": "code",
   "execution_count": 59,
   "id": "eaae2685-0848-4408-8df9-c7508c9644dd",
   "metadata": {},
   "outputs": [
    {
     "data": {
      "text/html": [
       "<div>\n",
       "<style scoped>\n",
       "    .dataframe tbody tr th:only-of-type {\n",
       "        vertical-align: middle;\n",
       "    }\n",
       "\n",
       "    .dataframe tbody tr th {\n",
       "        vertical-align: top;\n",
       "    }\n",
       "\n",
       "    .dataframe thead th {\n",
       "        text-align: right;\n",
       "    }\n",
       "</style>\n",
       "<table border=\"1\" class=\"dataframe\">\n",
       "  <thead>\n",
       "    <tr style=\"text-align: right;\">\n",
       "      <th></th>\n",
       "      <th>AgeLabel</th>\n",
       "      <th>INTEREST_NAME</th>\n",
       "      <th>count</th>\n",
       "    </tr>\n",
       "  </thead>\n",
       "  <tbody>\n",
       "    <tr>\n",
       "      <th>0</th>\n",
       "      <td>18-24</td>\n",
       "      <td>Museums &amp; galleries</td>\n",
       "      <td>717</td>\n",
       "    </tr>\n",
       "    <tr>\n",
       "      <th>1</th>\n",
       "      <td>18-24</td>\n",
       "      <td>Art</td>\n",
       "      <td>713</td>\n",
       "    </tr>\n",
       "    <tr>\n",
       "      <th>2</th>\n",
       "      <td>18-24</td>\n",
       "      <td>Gym</td>\n",
       "      <td>625</td>\n",
       "    </tr>\n",
       "    <tr>\n",
       "      <th>3</th>\n",
       "      <td>18-24</td>\n",
       "      <td>Pubs</td>\n",
       "      <td>620</td>\n",
       "    </tr>\n",
       "    <tr>\n",
       "      <th>4</th>\n",
       "      <td>18-24</td>\n",
       "      <td>Photography</td>\n",
       "      <td>598</td>\n",
       "    </tr>\n",
       "    <tr>\n",
       "      <th>5</th>\n",
       "      <td>18-24</td>\n",
       "      <td>Gigs</td>\n",
       "      <td>583</td>\n",
       "    </tr>\n",
       "    <tr>\n",
       "      <th>6</th>\n",
       "      <td>18-24</td>\n",
       "      <td>Nightclubs</td>\n",
       "      <td>557</td>\n",
       "    </tr>\n",
       "    <tr>\n",
       "      <th>7</th>\n",
       "      <td>18-24</td>\n",
       "      <td>Cooking</td>\n",
       "      <td>548</td>\n",
       "    </tr>\n",
       "    <tr>\n",
       "      <th>8</th>\n",
       "      <td>18-24</td>\n",
       "      <td>Coffee</td>\n",
       "      <td>406</td>\n",
       "    </tr>\n",
       "    <tr>\n",
       "      <th>9</th>\n",
       "      <td>18-24</td>\n",
       "      <td>Video games</td>\n",
       "      <td>404</td>\n",
       "    </tr>\n",
       "    <tr>\n",
       "      <th>10</th>\n",
       "      <td>25-34</td>\n",
       "      <td>Pubs</td>\n",
       "      <td>1612</td>\n",
       "    </tr>\n",
       "    <tr>\n",
       "      <th>11</th>\n",
       "      <td>25-34</td>\n",
       "      <td>Museums &amp; galleries</td>\n",
       "      <td>1571</td>\n",
       "    </tr>\n",
       "    <tr>\n",
       "      <th>12</th>\n",
       "      <td>25-34</td>\n",
       "      <td>Gym</td>\n",
       "      <td>1552</td>\n",
       "    </tr>\n",
       "    <tr>\n",
       "      <th>13</th>\n",
       "      <td>25-34</td>\n",
       "      <td>Art</td>\n",
       "      <td>1402</td>\n",
       "    </tr>\n",
       "    <tr>\n",
       "      <th>14</th>\n",
       "      <td>25-34</td>\n",
       "      <td>Cooking</td>\n",
       "      <td>1363</td>\n",
       "    </tr>\n",
       "    <tr>\n",
       "      <th>15</th>\n",
       "      <td>25-34</td>\n",
       "      <td>Gigs</td>\n",
       "      <td>1329</td>\n",
       "    </tr>\n",
       "    <tr>\n",
       "      <th>16</th>\n",
       "      <td>25-34</td>\n",
       "      <td>Photography</td>\n",
       "      <td>1198</td>\n",
       "    </tr>\n",
       "    <tr>\n",
       "      <th>17</th>\n",
       "      <td>25-34</td>\n",
       "      <td>Coffee</td>\n",
       "      <td>1059</td>\n",
       "    </tr>\n",
       "    <tr>\n",
       "      <th>18</th>\n",
       "      <td>25-34</td>\n",
       "      <td>Dancing</td>\n",
       "      <td>1022</td>\n",
       "    </tr>\n",
       "    <tr>\n",
       "      <th>19</th>\n",
       "      <td>25-34</td>\n",
       "      <td>Foodie</td>\n",
       "      <td>1005</td>\n",
       "    </tr>\n",
       "    <tr>\n",
       "      <th>20</th>\n",
       "      <td>35-44</td>\n",
       "      <td>Art</td>\n",
       "      <td>493</td>\n",
       "    </tr>\n",
       "    <tr>\n",
       "      <th>21</th>\n",
       "      <td>35-44</td>\n",
       "      <td>Museums &amp; galleries</td>\n",
       "      <td>483</td>\n",
       "    </tr>\n",
       "    <tr>\n",
       "      <th>22</th>\n",
       "      <td>35-44</td>\n",
       "      <td>Gym</td>\n",
       "      <td>443</td>\n",
       "    </tr>\n",
       "    <tr>\n",
       "      <th>23</th>\n",
       "      <td>35-44</td>\n",
       "      <td>Gigs</td>\n",
       "      <td>417</td>\n",
       "    </tr>\n",
       "    <tr>\n",
       "      <th>24</th>\n",
       "      <td>35-44</td>\n",
       "      <td>Cooking</td>\n",
       "      <td>413</td>\n",
       "    </tr>\n",
       "    <tr>\n",
       "      <th>25</th>\n",
       "      <td>35-44</td>\n",
       "      <td>Dancing</td>\n",
       "      <td>397</td>\n",
       "    </tr>\n",
       "    <tr>\n",
       "      <th>26</th>\n",
       "      <td>35-44</td>\n",
       "      <td>Photography</td>\n",
       "      <td>393</td>\n",
       "    </tr>\n",
       "    <tr>\n",
       "      <th>27</th>\n",
       "      <td>35-44</td>\n",
       "      <td>Pubs</td>\n",
       "      <td>356</td>\n",
       "    </tr>\n",
       "    <tr>\n",
       "      <th>28</th>\n",
       "      <td>35-44</td>\n",
       "      <td>Beaches</td>\n",
       "      <td>353</td>\n",
       "    </tr>\n",
       "    <tr>\n",
       "      <th>29</th>\n",
       "      <td>35-44</td>\n",
       "      <td>City breaks</td>\n",
       "      <td>291</td>\n",
       "    </tr>\n",
       "    <tr>\n",
       "      <th>30</th>\n",
       "      <td>45+</td>\n",
       "      <td>Art</td>\n",
       "      <td>227</td>\n",
       "    </tr>\n",
       "    <tr>\n",
       "      <th>31</th>\n",
       "      <td>45+</td>\n",
       "      <td>Museums &amp; galleries</td>\n",
       "      <td>187</td>\n",
       "    </tr>\n",
       "    <tr>\n",
       "      <th>32</th>\n",
       "      <td>45+</td>\n",
       "      <td>Dancing</td>\n",
       "      <td>165</td>\n",
       "    </tr>\n",
       "    <tr>\n",
       "      <th>33</th>\n",
       "      <td>45+</td>\n",
       "      <td>Cooking</td>\n",
       "      <td>154</td>\n",
       "    </tr>\n",
       "    <tr>\n",
       "      <th>34</th>\n",
       "      <td>45+</td>\n",
       "      <td>Photography</td>\n",
       "      <td>136</td>\n",
       "    </tr>\n",
       "    <tr>\n",
       "      <th>35</th>\n",
       "      <td>45+</td>\n",
       "      <td>Gym</td>\n",
       "      <td>127</td>\n",
       "    </tr>\n",
       "    <tr>\n",
       "      <th>36</th>\n",
       "      <td>45+</td>\n",
       "      <td>Beaches</td>\n",
       "      <td>125</td>\n",
       "    </tr>\n",
       "    <tr>\n",
       "      <th>37</th>\n",
       "      <td>45+</td>\n",
       "      <td>Theatre</td>\n",
       "      <td>116</td>\n",
       "    </tr>\n",
       "    <tr>\n",
       "      <th>38</th>\n",
       "      <td>45+</td>\n",
       "      <td>Design</td>\n",
       "      <td>115</td>\n",
       "    </tr>\n",
       "    <tr>\n",
       "      <th>39</th>\n",
       "      <td>45+</td>\n",
       "      <td>Gigs</td>\n",
       "      <td>108</td>\n",
       "    </tr>\n",
       "  </tbody>\n",
       "</table>\n",
       "</div>"
      ],
      "text/plain": [
       "   AgeLabel        INTEREST_NAME  count\n",
       "0     18-24  Museums & galleries    717\n",
       "1     18-24                  Art    713\n",
       "2     18-24                  Gym    625\n",
       "3     18-24                 Pubs    620\n",
       "4     18-24          Photography    598\n",
       "5     18-24                 Gigs    583\n",
       "6     18-24           Nightclubs    557\n",
       "7     18-24              Cooking    548\n",
       "8     18-24               Coffee    406\n",
       "9     18-24          Video games    404\n",
       "10    25-34                 Pubs   1612\n",
       "11    25-34  Museums & galleries   1571\n",
       "12    25-34                  Gym   1552\n",
       "13    25-34                  Art   1402\n",
       "14    25-34              Cooking   1363\n",
       "15    25-34                 Gigs   1329\n",
       "16    25-34          Photography   1198\n",
       "17    25-34               Coffee   1059\n",
       "18    25-34              Dancing   1022\n",
       "19    25-34               Foodie   1005\n",
       "20    35-44                  Art    493\n",
       "21    35-44  Museums & galleries    483\n",
       "22    35-44                  Gym    443\n",
       "23    35-44                 Gigs    417\n",
       "24    35-44              Cooking    413\n",
       "25    35-44              Dancing    397\n",
       "26    35-44          Photography    393\n",
       "27    35-44                 Pubs    356\n",
       "28    35-44              Beaches    353\n",
       "29    35-44          City breaks    291\n",
       "30      45+                  Art    227\n",
       "31      45+  Museums & galleries    187\n",
       "32      45+              Dancing    165\n",
       "33      45+              Cooking    154\n",
       "34      45+          Photography    136\n",
       "35      45+                  Gym    127\n",
       "36      45+              Beaches    125\n",
       "37      45+              Theatre    116\n",
       "38      45+               Design    115\n",
       "39      45+                 Gigs    108"
      ]
     },
     "execution_count": 59,
     "metadata": {},
     "output_type": "execute_result"
    }
   ],
   "source": [
    "# Group the dataframe by AgeLabel and count the occurrences of each interest\n",
    "top_interests = user_interest.groupby('AgeLabel')['INTEREST_NAME'].value_counts().groupby(level=0).nlargest(10)\n",
    "\n",
    "# Reset the index to convert the multi-index series to a dataframe\n",
    "top_interests = top_interests.reset_index(level=0, drop=True).reset_index()\n",
    "\n",
    "top_interests.head(50)"
   ]
  },
  {
   "cell_type": "markdown",
   "id": "64856c93-ac06-4980-badb-b1370efc22d9",
   "metadata": {},
   "source": [
    "## Distribution of Listed Interests"
   ]
  },
  {
   "cell_type": "code",
   "execution_count": 60,
   "id": "c9b409ed-8c1e-4a24-9c02-da93c7c6c76b",
   "metadata": {},
   "outputs": [
    {
     "data": {
      "image/png": "[encoded data removed]",
      "text/plain": [
       "<Figure size 720x432 with 1 Axes>"
      ]
     },
     "metadata": {
      "needs_background": "light"
     },
     "output_type": "display_data"
    }
   ],
   "source": [
    "#interests per person\n",
    "interests = user_interest.groupby(['USER_ID'])['INTEREST_ID'].count().reset_index(name='INTEREST_COUNT')\n",
    "\n",
    "frequency_interest_counts = interests['INTEREST_COUNT'].value_counts()\n",
    "frequency_interest_counts = frequency_interest_counts.sort_values(ascending=False).sort_index(ascending=True)\n",
    "\n",
    "# Plot the occurrence frequency\n",
    "frequency_interest_counts.plot(kind='bar', figsize=(10, 6))\n",
    "plt.xlabel('Number of Interests')\n",
    "plt.ylabel('Number of Users')\n",
    "plt.show()"
   ]
  },
  {
   "cell_type": "markdown",
   "id": "05b03f3f-c54f-426c-beaa-545fc7252be4",
   "metadata": {},
   "source": [
    "### Distribution of Listed Interests by Gender"
   ]
  },
  {
   "cell_type": "code",
   "execution_count": 61,
   "id": "fa804670-26bb-4dae-a2ee-f13f8c1367bd",
   "metadata": {},
   "outputs": [
    {
     "data": {
      "image/png": "[encoded data removed]",
      "text/plain": [
       "<Figure size 432x288 with 1 Axes>"
      ]
     },
     "metadata": {
      "needs_background": "light"
     },
     "output_type": "display_data"
    }
   ],
   "source": [
    "interest_counts_g = user_interest.groupby(['USER_ID', 'PROFILE_GENDER'])['INTEREST_ID'].nunique().reset_index()\n",
    "\n",
    "# Plot the distribution of interest counts by gender\n",
    "sns.histplot(data=interest_counts_g, x='INTEREST_ID', hue='PROFILE_GENDER', kde=True, bins=30)\n",
    "\n",
    "# Set labels and title\n",
    "plt.xlabel('Number of Interests')\n",
    "plt.ylabel('Frequency')\n",
    "plt.title('Distribution of Number of Interests by Gender')\n",
    "\n",
    "# Display the plot\n",
    "plt.show()"
   ]
  },
  {
   "cell_type": "code",
   "execution_count": 62,
   "id": "3f47020f-1fb5-4c32-8ee4-a8905712fd8c",
   "metadata": {},
   "outputs": [
    {
     "data": {
      "image/png": "[encoded data removed]",
      "text/plain": [
       "<Figure size 432x288 with 1 Axes>"
      ]
     },
     "metadata": {
      "needs_background": "light"
     },
     "output_type": "display_data"
    }
   ],
   "source": [
    "# Create a boxplot using seaborn\n",
    "sns.boxplot(data=interest_counts_g, x='PROFILE_GENDER', y='INTEREST_ID')\n",
    "\n",
    "# Set labels and title\n",
    "plt.xlabel('Gender')\n",
    "plt.ylabel('Number of Interests')\n",
    "plt.title('Boxplot of Interest ID by Gender')\n",
    "\n",
    "# Display the plot\n",
    "plt.show()"
   ]
  },
  {
   "cell_type": "code",
   "execution_count": 63,
   "id": "998028d8-121f-4803-96e8-bb26c88dbdaa",
   "metadata": {},
   "outputs": [
    {
     "data": {
      "text/plain": [
       "count    5384.000000\n",
       "mean        7.559621\n",
       "std         3.580368\n",
       "min         1.000000\n",
       "25%         5.000000\n",
       "50%         6.000000\n",
       "75%        10.000000\n",
       "max        34.000000\n",
       "Name: INTEREST_ID, dtype: float64"
      ]
     },
     "execution_count": 63,
     "metadata": {},
     "output_type": "execute_result"
    }
   ],
   "source": [
    "interest_counts_g[interest_counts_g['PROFILE_GENDER'] == 'M']['INTEREST_ID'].describe()"
   ]
  },
  {
   "cell_type": "code",
   "execution_count": 64,
   "id": "905491f6-0c22-4e3a-9c54-8d845966a5c4",
   "metadata": {},
   "outputs": [
    {
     "data": {
      "text/plain": [
       "count    5737.000000\n",
       "mean        9.156353\n",
       "std         4.034647\n",
       "min         1.000000\n",
       "25%         5.000000\n",
       "50%         8.000000\n",
       "75%        12.000000\n",
       "max        31.000000\n",
       "Name: INTEREST_ID, dtype: float64"
      ]
     },
     "execution_count": 64,
     "metadata": {},
     "output_type": "execute_result"
    }
   ],
   "source": [
    "interest_counts_g[interest_counts_g['PROFILE_GENDER'] == 'F']['INTEREST_ID'].describe()"
   ]
  },
  {
   "cell_type": "markdown",
   "id": "4501c82c-d706-4180-82ab-28cf59bfa733",
   "metadata": {},
   "source": [
    "### Distribution of listed interests by age"
   ]
  },
  {
   "cell_type": "code",
   "execution_count": 65,
   "id": "13650c3a-b52b-484b-b2d9-fba23dc692b1",
   "metadata": {},
   "outputs": [
    {
     "data": {
      "text/html": [
       "<div>\n",
       "<style scoped>\n",
       "    .dataframe tbody tr th:only-of-type {\n",
       "        vertical-align: middle;\n",
       "    }\n",
       "\n",
       "    .dataframe tbody tr th {\n",
       "        vertical-align: top;\n",
       "    }\n",
       "\n",
       "    .dataframe thead th {\n",
       "        text-align: right;\n",
       "    }\n",
       "</style>\n",
       "<table border=\"1\" class=\"dataframe\">\n",
       "  <thead>\n",
       "    <tr style=\"text-align: right;\">\n",
       "      <th></th>\n",
       "      <th>USER_ID</th>\n",
       "      <th>INTEREST_ID</th>\n",
       "    </tr>\n",
       "  </thead>\n",
       "  <tbody>\n",
       "    <tr>\n",
       "      <th>0</th>\n",
       "      <td>752420</td>\n",
       "      <td>11</td>\n",
       "    </tr>\n",
       "    <tr>\n",
       "      <th>1</th>\n",
       "      <td>1354022</td>\n",
       "      <td>6</td>\n",
       "    </tr>\n",
       "    <tr>\n",
       "      <th>2</th>\n",
       "      <td>2116134</td>\n",
       "      <td>13</td>\n",
       "    </tr>\n",
       "    <tr>\n",
       "      <th>3</th>\n",
       "      <td>2542079</td>\n",
       "      <td>6</td>\n",
       "    </tr>\n",
       "    <tr>\n",
       "      <th>4</th>\n",
       "      <td>2929622</td>\n",
       "      <td>12</td>\n",
       "    </tr>\n",
       "  </tbody>\n",
       "</table>\n",
       "</div>"
      ],
      "text/plain": [
       "   USER_ID  INTEREST_ID\n",
       "0   752420           11\n",
       "1  1354022            6\n",
       "2  2116134           13\n",
       "3  2542079            6\n",
       "4  2929622           12"
      ]
     },
     "execution_count": 65,
     "metadata": {},
     "output_type": "execute_result"
    }
   ],
   "source": [
    "interest_counts_age = user_interest.groupby(['USER_ID'])['INTEREST_ID'].nunique().reset_index()\n",
    "interest_counts_age.head()"
   ]
  },
  {
   "cell_type": "code",
   "execution_count": 66,
   "id": "248e098c-b128-4dd1-9006-d24d13c90a3d",
   "metadata": {},
   "outputs": [],
   "source": [
    "#merge with the age label\n",
    "interest_counts_age = interest_counts_age.merge(user_interest[['USER_ID', 'AgeLabel']], on = 'USER_ID', how = 'left')\n",
    "interest_counts_age = interest_counts_age.drop_duplicates()"
   ]
  },
  {
   "cell_type": "code",
   "execution_count": 67,
   "id": "1f16c490-5f7c-4e7f-9209-f713ac09c4b5",
   "metadata": {},
   "outputs": [
    {
     "data": {
      "text/html": [
       "<div>\n",
       "<style scoped>\n",
       "    .dataframe tbody tr th:only-of-type {\n",
       "        vertical-align: middle;\n",
       "    }\n",
       "\n",
       "    .dataframe tbody tr th {\n",
       "        vertical-align: top;\n",
       "    }\n",
       "\n",
       "    .dataframe thead th {\n",
       "        text-align: right;\n",
       "    }\n",
       "</style>\n",
       "<table border=\"1\" class=\"dataframe\">\n",
       "  <thead>\n",
       "    <tr style=\"text-align: right;\">\n",
       "      <th></th>\n",
       "      <th>USER_ID</th>\n",
       "      <th>INTEREST_ID</th>\n",
       "      <th>AgeLabel</th>\n",
       "    </tr>\n",
       "  </thead>\n",
       "  <tbody>\n",
       "    <tr>\n",
       "      <th>0</th>\n",
       "      <td>752420</td>\n",
       "      <td>11</td>\n",
       "      <td>35-44</td>\n",
       "    </tr>\n",
       "    <tr>\n",
       "      <th>13</th>\n",
       "      <td>1354022</td>\n",
       "      <td>6</td>\n",
       "      <td>25-34</td>\n",
       "    </tr>\n",
       "    <tr>\n",
       "      <th>19</th>\n",
       "      <td>2116134</td>\n",
       "      <td>13</td>\n",
       "      <td>35-44</td>\n",
       "    </tr>\n",
       "    <tr>\n",
       "      <th>32</th>\n",
       "      <td>2542079</td>\n",
       "      <td>6</td>\n",
       "      <td>35-44</td>\n",
       "    </tr>\n",
       "    <tr>\n",
       "      <th>38</th>\n",
       "      <td>2929622</td>\n",
       "      <td>12</td>\n",
       "      <td>35-44</td>\n",
       "    </tr>\n",
       "  </tbody>\n",
       "</table>\n",
       "</div>"
      ],
      "text/plain": [
       "    USER_ID  INTEREST_ID AgeLabel\n",
       "0    752420           11    35-44\n",
       "13  1354022            6    25-34\n",
       "19  2116134           13    35-44\n",
       "32  2542079            6    35-44\n",
       "38  2929622           12    35-44"
      ]
     },
     "execution_count": 67,
     "metadata": {},
     "output_type": "execute_result"
    }
   ],
   "source": [
    "interest_counts_age.head()"
   ]
  },
  {
   "cell_type": "code",
   "execution_count": 100,
   "id": "a7ae2ec6-6249-4c67-8f45-f54a44ca01de",
   "metadata": {},
   "outputs": [
    {
     "data": {
      "image/png": "[encoded data removed]",
      "text/plain": [
       "<Figure size 432x288 with 1 Axes>"
      ]
     },
     "metadata": {},
     "output_type": "display_data"
    }
   ],
   "source": [
    "# Create a boxplot using seaborn\n",
    "sns.boxplot(data=interest_counts_age, x='AgeLabel', y='INTEREST_ID', color = 'olive')\n",
    "\n",
    "# Set labels and title\n",
    "plt.xlabel('Age Label')\n",
    "plt.ylabel('Number of Interests')\n",
    "plt.title('Boxplot of Number of interests by Age Label')\n",
    "plt.savefig('plot.png', transparent=True)\n",
    "\n",
    "# Display the plot\n",
    "plt.show()"
   ]
  },
  {
   "cell_type": "code",
   "execution_count": 69,
   "id": "5af5e79b-ee75-4bfd-a739-edada3385ad6",
   "metadata": {},
   "outputs": [
    {
     "data": {
      "text/plain": [
       "count    2566.000000\n",
       "mean        8.736945\n",
       "std         3.947977\n",
       "min         1.000000\n",
       "25%         5.000000\n",
       "50%         8.000000\n",
       "75%        12.000000\n",
       "max        25.000000\n",
       "Name: INTEREST_ID, dtype: float64"
      ]
     },
     "execution_count": 69,
     "metadata": {},
     "output_type": "execute_result"
    }
   ],
   "source": [
    "interest_counts_age[interest_counts_age['AgeLabel'] == '18-24']['INTEREST_ID'].describe()"
   ]
  },
  {
   "cell_type": "code",
   "execution_count": 70,
   "id": "7057c013-60d5-4436-9d6e-62018ec67ac9",
   "metadata": {},
   "outputs": [
    {
     "data": {
      "text/plain": [
       "count    5916.000000\n",
       "mean        8.575558\n",
       "std         3.992792\n",
       "min         1.000000\n",
       "25%         5.000000\n",
       "50%         8.000000\n",
       "75%        12.000000\n",
       "max        34.000000\n",
       "Name: INTEREST_ID, dtype: float64"
      ]
     },
     "execution_count": 70,
     "metadata": {},
     "output_type": "execute_result"
    }
   ],
   "source": [
    "interest_counts_age[interest_counts_age['AgeLabel'] == '25-34']['INTEREST_ID'].describe()"
   ]
  },
  {
   "cell_type": "code",
   "execution_count": 71,
   "id": "7f74a767-e48e-41ed-bac6-1c53f021791e",
   "metadata": {},
   "outputs": [
    {
     "data": {
      "text/plain": [
       "count    1925.000000\n",
       "mean        7.861818\n",
       "std         3.634356\n",
       "min         1.000000\n",
       "25%         5.000000\n",
       "50%         6.000000\n",
       "75%        10.000000\n",
       "max        29.000000\n",
       "Name: INTEREST_ID, dtype: float64"
      ]
     },
     "execution_count": 71,
     "metadata": {},
     "output_type": "execute_result"
    }
   ],
   "source": [
    "interest_counts_age[interest_counts_age['AgeLabel'] == '35-44']['INTEREST_ID'].describe()"
   ]
  },
  {
   "cell_type": "code",
   "execution_count": 72,
   "id": "e776e58c-cb48-42ff-a552-a946e7c3e9a9",
   "metadata": {},
   "outputs": [
    {
     "data": {
      "text/plain": [
       "count    713.000000\n",
       "mean       6.927069\n",
       "std        3.176946\n",
       "min        1.000000\n",
       "25%        5.000000\n",
       "50%        5.000000\n",
       "75%        8.000000\n",
       "max       21.000000\n",
       "Name: INTEREST_ID, dtype: float64"
      ]
     },
     "execution_count": 72,
     "metadata": {},
     "output_type": "execute_result"
    }
   ],
   "source": [
    "interest_counts_age[interest_counts_age['AgeLabel'] == '45+']['INTEREST_ID'].describe()"
   ]
  },
  {
   "cell_type": "markdown",
   "id": "e8779379-1615-4174-b56b-a1785f321379",
   "metadata": {},
   "source": [
    "### Distribution of listed interests by game mode"
   ]
  },
  {
   "cell_type": "code",
   "execution_count": 73,
   "id": "31ecf69c-de6d-46ea-a2cf-6ce311cfee89",
   "metadata": {},
   "outputs": [
    {
     "data": {
      "image/png": "[encoded data removed]",
      "text/plain": [
       "<Figure size 432x288 with 1 Axes>"
      ]
     },
     "metadata": {
      "needs_background": "light"
     },
     "output_type": "display_data"
    }
   ],
   "source": [
    "interest_counts_g = user_interest.groupby(['USER_ID', 'MODE'])['INTEREST_ID'].nunique().reset_index()\n",
    "\n",
    "# Plot the distribution of interest counts by gender\n",
    "sns.histplot(data=interest_counts_g, x='INTEREST_ID', hue='MODE', kde=True, bins=30)\n",
    "\n",
    "# Set labels and title\n",
    "plt.xlabel('Number of Interests')\n",
    "plt.ylabel('Frequency')\n",
    "plt.title('Distribution of Number of Interests by Mode')\n",
    "\n",
    "# Display the plot\n",
    "plt.show()"
   ]
  },
  {
   "cell_type": "code",
   "execution_count": 75,
   "id": "eef72ebc-d996-4958-b8a2-090595afd384",
   "metadata": {},
   "outputs": [
    {
     "data": {
      "image/png": "[encoded data removed]",
      "text/plain": [
       "<Figure size 432x288 with 1 Axes>"
      ]
     },
     "metadata": {
      "needs_background": "light"
     },
     "output_type": "display_data"
    }
   ],
   "source": [
    "# Create a boxplot using seaborn\n",
    "sns.boxplot(data=interest_counts_g, x='MODE', y='INTEREST_ID')\n",
    "\n",
    "# Set labels and title\n",
    "plt.xlabel('Mode')\n",
    "plt.ylabel('Number of Interests')\n",
    "plt.title('Boxplot of Interest ID by Mode')\n",
    "\n",
    "# Display the plot\n",
    "plt.show()"
   ]
  },
  {
   "cell_type": "markdown",
   "id": "085bfa84-b6a7-4aaa-81b7-3a73bb2411f0",
   "metadata": {},
   "source": [
    "## USER BIO"
   ]
  },
  {
   "cell_type": "code",
   "execution_count": 76,
   "id": "2064aa0b-fe88-4007-8bac-3405ea2bb5e1",
   "metadata": {},
   "outputs": [
    {
     "data": {
      "text/html": [
       "<div>\n",
       "<style scoped>\n",
       "    .dataframe tbody tr th:only-of-type {\n",
       "        vertical-align: middle;\n",
       "    }\n",
       "\n",
       "    .dataframe tbody tr th {\n",
       "        vertical-align: top;\n",
       "    }\n",
       "\n",
       "    .dataframe thead th {\n",
       "        text-align: right;\n",
       "    }\n",
       "</style>\n",
       "<table border=\"1\" class=\"dataframe\">\n",
       "  <thead>\n",
       "    <tr style=\"text-align: right;\">\n",
       "      <th></th>\n",
       "      <th>USER_ID</th>\n",
       "      <th>ABOUTME_TEXT</th>\n",
       "      <th>PROFILE_GENDER</th>\n",
       "      <th>AgeLabel</th>\n",
       "      <th>MODE</th>\n",
       "    </tr>\n",
       "  </thead>\n",
       "  <tbody>\n",
       "    <tr>\n",
       "      <th>0</th>\n",
       "      <td>5720900</td>\n",
       "      <td>Sometimes you do wonder if anyone actually rea...</td>\n",
       "      <td>F</td>\n",
       "      <td>35-44</td>\n",
       "      <td>BFF</td>\n",
       "    </tr>\n",
       "    <tr>\n",
       "      <th>11</th>\n",
       "      <td>4066793596</td>\n",
       "      <td>Constantemente tratando de leer mas y ser mas ...</td>\n",
       "      <td>F</td>\n",
       "      <td>25-34</td>\n",
       "      <td>BFF</td>\n",
       "    </tr>\n",
       "    <tr>\n",
       "      <th>24</th>\n",
       "      <td>3358809036</td>\n",
       "      <td>From London ❤️‍🩹</td>\n",
       "      <td>F</td>\n",
       "      <td>18-24</td>\n",
       "      <td>BFF</td>\n",
       "    </tr>\n",
       "    <tr>\n",
       "      <th>35</th>\n",
       "      <td>284320279</td>\n",
       "      <td>Canadian import relocating for the sunny weath...</td>\n",
       "      <td>F</td>\n",
       "      <td>25-34</td>\n",
       "      <td>BFF</td>\n",
       "    </tr>\n",
       "    <tr>\n",
       "      <th>48</th>\n",
       "      <td>1497692909</td>\n",
       "      <td>You know what, let’s just meet for a drink and...</td>\n",
       "      <td>F</td>\n",
       "      <td>25-34</td>\n",
       "      <td>BFF</td>\n",
       "    </tr>\n",
       "  </tbody>\n",
       "</table>\n",
       "</div>"
      ],
      "text/plain": [
       "       USER_ID                                       ABOUTME_TEXT   \n",
       "0      5720900  Sometimes you do wonder if anyone actually rea...  \\\n",
       "11  4066793596  Constantemente tratando de leer mas y ser mas ...   \n",
       "24  3358809036                                   From London ❤️‍🩹   \n",
       "35   284320279  Canadian import relocating for the sunny weath...   \n",
       "48  1497692909  You know what, let’s just meet for a drink and...   \n",
       "\n",
       "   PROFILE_GENDER AgeLabel MODE  \n",
       "0               F    35-44  BFF  \n",
       "11              F    25-34  BFF  \n",
       "24              F    18-24  BFF  \n",
       "35              F    25-34  BFF  \n",
       "48              F    25-34  BFF  "
      ]
     },
     "execution_count": 76,
     "metadata": {},
     "output_type": "execute_result"
    }
   ],
   "source": [
    "#keep only bio data\n",
    "user_bio = user_interest[['USER_ID', 'ABOUTME_TEXT', 'PROFILE_GENDER', 'AgeLabel', 'MODE']]\n",
    "user_bio = user_bio.drop_duplicates()\n",
    "user_bio.head()"
   ]
  },
  {
   "cell_type": "code",
   "execution_count": 77,
   "id": "eae98231-520b-4395-b731-8a503f974ee7",
   "metadata": {},
   "outputs": [
    {
     "data": {
      "image/png": "[encoded data removed]",
      "text/plain": [
       "<Figure size 432x288 with 1 Axes>"
      ]
     },
     "metadata": {
      "needs_background": "light"
     },
     "output_type": "display_data"
    }
   ],
   "source": [
    "#get the length of each bio\n",
    "user_bio['len_bio'] = user_bio.apply(lambda x: len(x.ABOUTME_TEXT), axis = 1)\n",
    "user_bio.head()\n",
    "\n",
    "#plot the distirbution of th elength of the bio\n",
    "plt.hist(user_bio['len_bio'], bins=40, edgecolor='black')\n",
    "plt.xlabel('Length of Bio')\n",
    "plt.ylabel('Frequency')\n",
    "plt.title('Distribution of Bio Length')\n",
    "plt.show()"
   ]
  },
  {
   "cell_type": "markdown",
   "id": "bc8430de-dbdf-4a63-810c-0684d3769bae",
   "metadata": {},
   "source": [
    "Seems like 300 characters is the limit for Bumble's bio and this is why we see the peak at 300 characters. Some bios are exceeding 300 characters and this is due to how some of the emoji's are being counted here in Python. "
   ]
  },
  {
   "cell_type": "markdown",
   "id": "18aedb76-5f1d-4210-8fd8-74897a6991b4",
   "metadata": {},
   "source": [
    "### Bio Lenght Distribution by Gender"
   ]
  },
  {
   "cell_type": "code",
   "execution_count": 78,
   "id": "bc7d2d34-d61d-473b-a0eb-6d69193731bb",
   "metadata": {},
   "outputs": [
    {
     "data": {
      "text/plain": [
       "count    5737.000000\n",
       "mean      121.277323\n",
       "std        89.221155\n",
       "min         1.000000\n",
       "25%        46.000000\n",
       "50%        98.000000\n",
       "75%       186.000000\n",
       "max       324.000000\n",
       "Name: len_bio, dtype: float64"
      ]
     },
     "execution_count": 78,
     "metadata": {},
     "output_type": "execute_result"
    }
   ],
   "source": [
    "#Female Users\n",
    "user_bio[user_bio['PROFILE_GENDER'] == 'F']['len_bio'].describe()"
   ]
  },
  {
   "cell_type": "code",
   "execution_count": 79,
   "id": "2e1f2e1f-8f09-4a84-ae80-1bbd319a5add",
   "metadata": {},
   "outputs": [
    {
     "data": {
      "text/plain": [
       "count    5384.000000\n",
       "mean      111.086367\n",
       "std        86.962103\n",
       "min         1.000000\n",
       "25%        40.000000\n",
       "50%        84.000000\n",
       "75%       168.000000\n",
       "max       310.000000\n",
       "Name: len_bio, dtype: float64"
      ]
     },
     "execution_count": 79,
     "metadata": {},
     "output_type": "execute_result"
    }
   ],
   "source": [
    "#Male Users\n",
    "user_bio[user_bio['PROFILE_GENDER'] == 'M']['len_bio'].describe()"
   ]
  },
  {
   "cell_type": "code",
   "execution_count": 80,
   "id": "9f4dbd79-88bb-4fc5-be6a-82a121352bbc",
   "metadata": {},
   "outputs": [
    {
     "data": {
      "image/png": "[encoded data removed]",
      "text/plain": [
       "<Figure size 432x288 with 1 Axes>"
      ]
     },
     "metadata": {
      "needs_background": "light"
     },
     "output_type": "display_data"
    }
   ],
   "source": [
    "male_len_bio = user_bio[user_bio['PROFILE_GENDER'] == 'M']['len_bio']\n",
    "female_len_bio = user_bio[user_bio['PROFILE_GENDER'] == 'F']['len_bio']\n",
    "\n",
    "# Plotting the distribution of male and feamle bio lengths\n",
    "sns.histplot(male_len_bio, color='blue', label='Male', kde=True)\n",
    "sns.histplot(female_len_bio, color='pink', label='Female', kde=True)\n",
    "\n",
    "plt.xlabel('Length of Bio')\n",
    "plt.ylabel('Density')\n",
    "plt.title('Distribution of Bio Length by Gender')\n",
    "plt.legend()\n",
    "plt.show()"
   ]
  },
  {
   "cell_type": "code",
   "execution_count": 81,
   "id": "80ff2bb4-c6d1-47f5-b44e-372dae36ee58",
   "metadata": {},
   "outputs": [
    {
     "data": {
      "image/png": "[encoded data removed]",
      "text/plain": [
       "<Figure size 432x288 with 1 Axes>"
      ]
     },
     "metadata": {
      "needs_background": "light"
     },
     "output_type": "display_data"
    }
   ],
   "source": [
    "sns.boxplot(x='PROFILE_GENDER', y='len_bio', data=user_bio)\n",
    "\n",
    "# Set labels and title\n",
    "plt.xlabel('Gender')\n",
    "plt.ylabel('Bio Length')\n",
    "plt.title('Distribution of Bio Length by Gender')\n",
    "\n",
    "# Display the plot\n",
    "plt.show()"
   ]
  },
  {
   "cell_type": "markdown",
   "id": "551a2ebc-9212-4a1b-b868-e64d75d31834",
   "metadata": {},
   "source": [
    "On average female tend to write a slightly longer bio compared to males. The overall distribution seems to be the same."
   ]
  },
  {
   "cell_type": "markdown",
   "id": "50e8fd41-06d7-429b-a8e0-7c9555611047",
   "metadata": {},
   "source": [
    "### Bio Length Distribution by Age"
   ]
  },
  {
   "cell_type": "code",
   "execution_count": 98,
   "id": "4e70c58a-7f9a-47f7-93c7-9c33f4abcc06",
   "metadata": {},
   "outputs": [
    {
     "data": {
      "image/png": "[encoded data removed]",
      "text/plain": [
       "<Figure size 432x288 with 1 Axes>"
      ]
     },
     "metadata": {},
     "output_type": "display_data"
    }
   ],
   "source": [
    "sns.set(style='whitegrid')\n",
    "sns.boxplot(x='AgeLabel', y='len_bio', data=user_bio, color = 'olive')\n",
    "\n",
    "# Set labels and title\n",
    "plt.xlabel('Age Group')\n",
    "plt.ylabel('Bio Length')\n",
    "plt.title('Distribution of Bio Length by Age Group')\n",
    "plt.savefig('plot.png', transparent=True)\n",
    "# Display the plot\n",
    "plt.show()"
   ]
  },
  {
   "cell_type": "markdown",
   "id": "792c12ae-af37-4602-9034-75b7f3b2f263",
   "metadata": {},
   "source": [
    "Older users seem to write longer bios, yet include less number of interests"
   ]
  },
  {
   "cell_type": "markdown",
   "id": "feba258f-9132-451c-a3da-5d07bc46388a",
   "metadata": {},
   "source": [
    "### Bio Length Distribution by Mode"
   ]
  },
  {
   "cell_type": "code",
   "execution_count": 83,
   "id": "2cc67d7b-7cf2-423c-9aa9-840573e9fe06",
   "metadata": {},
   "outputs": [
    {
     "data": {
      "image/png": "[encoded data removed]",
      "text/plain": [
       "<Figure size 432x288 with 1 Axes>"
      ]
     },
     "metadata": {
      "needs_background": "light"
     },
     "output_type": "display_data"
    }
   ],
   "source": [
    "sns.boxplot(x='MODE', y='len_bio', data=user_bio)\n",
    "\n",
    "# Set labels and title\n",
    "plt.xlabel('Mode')\n",
    "plt.ylabel('Bio Length')\n",
    "plt.title('Distribution of Bio Length by Mode')\n",
    "\n",
    "# Display the plot\n",
    "plt.show()"
   ]
  },
  {
   "cell_type": "markdown",
   "id": "3a96c817-761c-41a2-8467-000c3b16bdda",
   "metadata": {},
   "source": [
    "## Demopgraphics"
   ]
  },
  {
   "cell_type": "code",
   "execution_count": 86,
   "id": "d42489be-00e2-42f1-ac49-41a1f2849885",
   "metadata": {},
   "outputs": [
    {
     "data": {
      "image/png": "[encoded data removed]",
      "text/plain": [
       "<Figure size 720x432 with 1 Axes>"
      ]
     },
     "metadata": {
      "needs_background": "light"
     },
     "output_type": "display_data"
    }
   ],
   "source": [
    "# Calculate the count of each gender\n",
    "gender_counts = user_df['PROFILE_GENDER'].value_counts()\n",
    "gender_percentages = gender_counts / gender_counts.sum() * 100\n",
    "\n",
    "# Create a bar plot of gender distribution\n",
    "gender_percentages.plot(kind='bar', figsize=(10, 6))\n",
    "\n",
    "# Add labels and a title to the plot\n",
    "plt.xlabel('Gender')\n",
    "plt.ylabel('Percentage')\n",
    "plt.title('Male and Female Distribution')\n",
    "\n",
    "# Display the plot\n",
    "plt.show()"
   ]
  },
  {
   "cell_type": "markdown",
   "id": "b1e847aa-4735-4137-8ce1-1b078bc123c9",
   "metadata": {},
   "source": [
    "### Gender Distribution by Mode"
   ]
  },
  {
   "cell_type": "code",
   "execution_count": 88,
   "id": "1c86eaf0-d1b8-40d8-8dbb-4b7566510e4c",
   "metadata": {},
   "outputs": [
    {
     "data": {
      "image/png": "[encoded data removed]",
      "text/plain": [
       "<Figure size 432x288 with 1 Axes>"
      ]
     },
     "metadata": {
      "needs_background": "light"
     },
     "output_type": "display_data"
    }
   ],
   "source": [
    "mode_gender_counts = user_df.groupby(['MODE', 'PROFILE_GENDER']).size()\n",
    "mode_gender_percentage = mode_gender_counts.groupby(level=0).apply(lambda x: 100 * x / float(x.sum()))\n",
    "\n",
    "# Plotting the results\n",
    "mode_gender_percentage.unstack().plot(kind='bar', stacked=True)\n",
    "\n",
    "plt.xlabel('MODE')\n",
    "plt.ylabel('Percentage')\n",
    "plt.title('Percentage of Gender for each Mode')\n",
    "plt.legend(title='GENDER')\n",
    "plt.show()"
   ]
  },
  {
   "cell_type": "code",
   "execution_count": 87,
   "id": "c87c2595-0f82-40f5-a1bc-45f3c2749fb0",
   "metadata": {},
   "outputs": [
    {
     "data": {
      "image/png": "[encoded data removed]",
      "text/plain": [
       "<Figure size 720x432 with 1 Axes>"
      ]
     },
     "metadata": {
      "needs_background": "light"
     },
     "output_type": "display_data"
    }
   ],
   "source": [
    "user_df['PROFILE_AGE'].plot(kind='hist', bins=20, figsize=(10, 6))\n",
    "\n",
    "# Add labels and a title to the plot\n",
    "plt.xlabel('Age')\n",
    "plt.ylabel('Count')\n",
    "plt.title('Age Distribution')\n",
    "\n",
    "# Display the plot\n",
    "plt.show()"
   ]
  },
  {
   "cell_type": "markdown",
   "id": "b8c09638-019f-481e-9531-9b572534ef5f",
   "metadata": {},
   "source": [
    "### Age Distribution by Mode"
   ]
  },
  {
   "cell_type": "code",
   "execution_count": 92,
   "id": "07410f8a-0528-465a-b030-471e524884f5",
   "metadata": {},
   "outputs": [
    {
     "data": {
      "image/png": "[encoded data removed]",
      "text/plain": [
       "<Figure size 432x288 with 1 Axes>"
      ]
     },
     "metadata": {
      "needs_background": "light"
     },
     "output_type": "display_data"
    }
   ],
   "source": [
    "sns.boxplot(x='MODE', y='PROFILE_AGE', data=user_df)\n",
    "\n",
    "# Set labels and title\n",
    "plt.xlabel('Mode')\n",
    "plt.ylabel('Age')\n",
    "plt.title('Distribution of Age by Mode')\n",
    "\n",
    "# Display the plot\n",
    "plt.show()"
   ]
  },
  {
   "cell_type": "code",
   "execution_count": null,
   "id": "3ccfa3e4-40b6-441e-a9b4-9d18c4e6dc33",
   "metadata": {},
   "outputs": [],
   "source": []
  }
 ],
 "metadata": {
  "kernelspec": {
   "display_name": "Python 3",
   "language": "python",
   "name": "python3"
  },
  "language_info": {
   "codemirror_mode": {
    "name": "ipython",
    "version": 3
   },
   "file_extension": ".py",
   "mimetype": "text/x-python",
   "name": "python",
   "nbconvert_exporter": "python",
   "pygments_lexer": "ipython3",
   "version": "3.8.10"
  }
 },
 "nbformat": 4,
 "nbformat_minor": 5
}
